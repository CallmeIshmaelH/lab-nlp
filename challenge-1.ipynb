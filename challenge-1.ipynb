{
 "cells": [
  {
   "cell_type": "markdown",
   "source": [
    "# Challenge 1: Prepare Textual Data for Analysis\n",
    "\n",
    "In this challenge, we will walk you through how to prepare raw text data for NLP analysis. Due to time limitation, we will cover **text cleaning, tokenization, stemming, lemmatization, and stop words removal** but skip POS tags, named entity recognition, and trunking. The latter 3 steps are more advanced and not required for our next challenge on sentiment analysis. \n",
    "\n",
    "## Objectives\n",
    "\n",
    "* Learn how to prepare text data for NLP analysis in Python\n",
    "* Write the functions you will use in Challenge 3 for cleaning, tokenizing, stemming, and lemmatizing data."
   ],
   "metadata": {}
  },
  {
   "cell_type": "markdown",
   "source": [
    "## Text Cleaning\r\n",
    "\r\n",
    "Text cleaning is also called text cleansing. The goal is to clean up the messy real-world textual data in order to improve the text analysis accuracy at later steps. For generic textual data sources, we usually need to fix the following problems:\r\n",
    "\r\n",
    "* Missing values\r\n",
    "* Special characters\r\n",
    "* Numbers\r\n",
    "\r\n",
    "For web data, we need to additinally fix:\r\n",
    "\r\n",
    "* HTML tags\r\n",
    "* JavaScripts\r\n",
    "* CSS\r\n",
    "* URLs\r\n",
    "\r\n",
    "Case by case, there may also be special problems we need to fix for certain types of data. For instance, for Twitter tweets data we need to fix hashtags and the Twitter handler including a *@* sign and Twitter usernames.\r\n",
    "\r\n",
    "In addition, we also need to convert the texts to lower cases so that when we anaylize the words later, NLTK will not think *Ironhack* and *ironhack* mean different things.\r\n",
    "\r\n",
    "Note that the above are the general steps to clean up data for NLP analysis. In specific cases, not all those steps apply. For example, if you are analyzing textual data on history, you probably don't want to remove numbers because numbers (such as years and dates) are important in history. Besides, if you are doing something like network analysis on web data, you may want to retain hyperlinks so that you will be able to extract the outbounding links in the next steps. Sometimes you may also need to do some cleaning first, then extract some features, then do more cleaning, then extract more features. You'll have to make these judgments by yourself case by case. \r\n",
    "\r\n",
    "In this challenge we are keeping things relatively simple so **you only need to clean up special characters, numbers, and URLs**. Let's say you have the following messy string to clean up:\r\n",
    "\r\n",
    "```\r\n",
    "@Ironhack's-#Q website 776-is http://ironhack.com [(2018)]\")\r\n",
    "```\r\n",
    "\r\n",
    "You will write a function, which will be part of you NLP analysis pipeline in the next challenge, to clean up strings like above and output:\r\n",
    "\r\n",
    "```\r\n",
    "ironhack s  q website  is\r\n",
    "```\r\n",
    "\r\n",
    "**In the cell below, write a function called `clean_up`**. Test your function with the above string and make sure you receive the expected output.\r\n",
    "\r\n",
    "*Notes:*\r\n",
    "\r\n",
    "* Use regular expressions to identify URL patterns and remove URLs.\r\n",
    "\r\n",
    "* You don't want to replace special characters/numbers with an empty string. Because that will join words that shouldn't be joined. For instance, if you replace the `'` in `you're`, you will get `youre` which is undesirable. So instead, replace special characters and numbers with a whitespace.\r\n",
    "\r\n",
    "* The order matters in terms of what to clean before others. For example, if you clean special characters before URLs, it will be difficult to identify the URLs patterns.\r\n",
    "\r\n",
    "* Don't worry about single letters and multiple whitespaces in your returned string. In our next steps those issues will be fixed."
   ],
   "metadata": {}
  },
  {
   "cell_type": "code",
   "execution_count": 2,
   "source": [
    "import pandas as pd\r\n",
    "import nltk\r\n",
    "from nltk.stem import WordNetLemmatizer \r\n",
    "from nltk.corpus import stopwords\r\n",
    "from sklearn.feature_extraction.text import CountVectorizer\r\n",
    "import regex as re \r\n"
   ],
   "outputs": [],
   "metadata": {}
  },
  {
   "cell_type": "code",
   "execution_count": 140,
   "source": [
    "# use regex to identify and drop URL strings.\r\n",
    "s = \"@Ironhack's-#Q website 776-is http://ironhack.com [(2018)]\"\r\n",
    "url_to_drop = re.findall('(?:(?:https?|ftp):\\/\\/)?[\\w/\\-?=%.]+\\.[\\w/\\-&?=%.]+', s)\r\n",
    "s = s.replace(url_to_drop[0], \" \")\r\n",
    "# use regex to identify non-functional special characters\r\n",
    "chars_to_drop = re.findall('\\W',s)\r\n",
    "for x in range(len(chars_to_drop)):\r\n",
    "    s = s.replace(chars_to_drop[x],' ')\r\n",
    "# use regex to identify numerical values to drop.\r\n",
    "nums_to_drop = re.findall('\\S?[0-9]', s)\r\n",
    "for n in range(len(nums_to_drop)):\r\n",
    "    s = s.replace(nums_to_drop[n], ' ')\r\n",
    "# convert all remaining items to lower case\r\n",
    "s.lower()\r\n",
    "\r\n",
    "\r\n",
    "\r\n",
    "\r\n",
    "\r\n"
   ],
   "outputs": [
    {
     "output_type": "execute_result",
     "data": {
      "text/plain": [
       "' ironhack s  q website    is         '"
      ]
     },
     "metadata": {},
     "execution_count": 140
    }
   ],
   "metadata": {}
  },
  {
   "cell_type": "code",
   "execution_count": 142,
   "source": [
    "def clean_up(s):\r\n",
    "    # sort through input and remove any patterns that look like urls.\r\n",
    "    # use regex to identify and drop URL strings.\r\n",
    "    url_to_drop = re.findall('(?:(?:https?|ftp):\\/\\/)?[\\w/\\-?=%.]+\\.[\\w/\\-&?=%.]+', s)\r\n",
    "    s = s.replace(url_to_drop[0], \" \")\r\n",
    "    # use regex to identify non-functional special characters\r\n",
    "    chars_to_drop = re.findall('\\W',s)\r\n",
    "    for x in range(len(chars_to_drop)):\r\n",
    "        s = s.replace(chars_to_drop[x],' ')\r\n",
    "    # use regex to identify numerical values to drop.\r\n",
    "    nums_to_drop = re.findall('\\S?[0-9]', s)\r\n",
    "    for n in range(len(nums_to_drop)):\r\n",
    "        s = s.replace(nums_to_drop[n], ' ')\r\n",
    "# convert all remaining items to lower case\r\n",
    "    return s.lower()\r\n",
    "   \r\n",
    "clean_s = clean_up(\"@Ironhack's-#Q website 776-is http://ironhack.com [(2018)]\")"
   ],
   "outputs": [],
   "metadata": {}
  },
  {
   "cell_type": "markdown",
   "source": [
    "## Tokenization\n",
    "\n",
    "We have actually discussed the concept of tokenization in the Bag of Words lab before. In that lab, we did both tokenization and calculated the [matrix of document-term frequency](https://en.wikipedia.org/wiki/Document-term_matrix). In this lab, we only need tokenization.\n",
    "\n",
    "In the cell below, write a function called **`tokenize`** to convert a string to a list of words. We'll use the string we received in the previous step *`ironhack s  q website  is`* to test your function. Your function shoud return:\n",
    "\n",
    "```python\n",
    "['ironhack', 's', 'q', 'website', 'is']\n",
    "```\n",
    "\n",
    "*Hint: use the `word_tokenize` function in NLTK.*"
   ],
   "metadata": {}
  },
  {
   "cell_type": "code",
   "execution_count": 145,
   "source": [
    "def tokenize(s):\r\n",
    "    import nltk\r\n",
    "    import ssl\r\n",
    "    try:\r\n",
    "        _create_unverified_https_context = ssl._create_unverified_context\r\n",
    "    except AttributeError:\r\n",
    "        pass\r\n",
    "    else:\r\n",
    "        ssl._create_default_https_context = _create_unverified_https_context\r\n",
    "\r\n",
    "    nltk.download('punkt')\r\n",
    "    s_tokenized = nltk.word_tokenize(s)\r\n",
    "    return s_tokenized\r\n",
    "\r\n",
    "s_tokenized = tokenize(clean_s)\r\n",
    "s_tokenized\r\n"
   ],
   "outputs": [
    {
     "output_type": "stream",
     "name": "stderr",
     "text": [
      "[nltk_data] Downloading package punkt to\n",
      "[nltk_data]     C:\\Users\\Ish\\AppData\\Roaming\\nltk_data...\n",
      "[nltk_data]   Package punkt is already up-to-date!\n"
     ]
    },
    {
     "output_type": "execute_result",
     "data": {
      "text/plain": [
       "['ironhack', 's', 'q', 'website', 'is']"
      ]
     },
     "metadata": {},
     "execution_count": 145
    }
   ],
   "metadata": {}
  },
  {
   "cell_type": "markdown",
   "source": [
    "## Stemming and Lemmatization\n",
    "\n",
    "We will do stemming and lemmatization in the same step because otherwise we'll have to loop each token lists twice. You have learned in the previous challenge that stemming and lemmatization are similar but have different purposes for text normalization:\n",
    "\n",
    "**Stemming reduces words to their root forms (stems) even if the stem itself is not a valid word**. For instance, *token*, *tokenize*, and *tokenization* will be reduced to the same stem - *token*. And *change*, *changed*, *changing* will be reduced to *chang*.\n",
    "\n",
    "In NLTK, there are three stemming libraries: [*Porter*](https://www.nltk.org/_modules/nltk/stem/porter.html), [*Snowball*](https://www.nltk.org/_modules/nltk/stem/snowball.html), and [*Lancaster*](https://www.nltk.org/_modules/nltk/stem/lancaster.html). The difference among the three is the agressiveness with which they perform stemming. Porter is the most gentle stemmer that preserves the word's original form if it has doubts. In contrast, Lancaster is the most aggressive one that sometimes produces wrong outputs. And Snowball is in between. **In most cases you will use either Porter or Snowball**.\n",
    "\n",
    "**Lemmatization differs from stemming in that lemmatization cares about whether the reduced form belongs to the target language and it often requires the context (i.e. POS or parts-of-speech) in order to perform the correct transformation**. For example, the [*Word Net lemmatizer* in NLTK](https://www.nltk.org/_modules/nltk/stem/wordnet.html) yields different results with and without being told that *was* is a verb:\n",
    "\n",
    "```python\n",
    ">>> from nltk.stem import WordNetLemmatizer\n",
    ">>> lemmatizer = WordNetLemmatizer()\n",
    ">>> lemmatizer.lemmatize('was')\n",
    "'wa'\n",
    ">>> lemmatizer.lemmatize('runs', pos='v')\n",
    "'be'\n",
    "```\n",
    "\n",
    "In the cell below, import the necessary libraries and define a function called `stem_and_lemmatize` that performs both stemming and lemmatization on a list of words. Don't worry about the POS part of lemmatization for now."
   ],
   "metadata": {}
  },
  {
   "cell_type": "code",
   "execution_count": 168,
   "source": [
    "import nltk\r\n",
    "nltk.download('wordnet')\r\n",
    "from nltk.stem import WordNetLemmatizer \r\n",
    "from nltk.corpus import wordnet\r\n",
    "nltk.download('averaged_perceptron_tagger')\r\n",
    "l = s_tokenized\r\n",
    "l_pos = nltk.pos_tag(l,lang='eng')[:15]\r\n",
    "stemmer = nltk.PorterStemmer()\r\n",
    "lemmatizer = WordNetLemmatizer()\r\n",
    "pos_tags = [l_pos[x][1][0].upper() for x in range(len(l_pos))]\r\n",
    "tag_dict = {'N':wordnet.NOUN,'V':wordnet.VERB,'J':wordnet.ADJ,'R':wordnet.ADV}\r\n",
    "tag_dict['V']\r\n"
   ],
   "outputs": [
    {
     "output_type": "stream",
     "name": "stderr",
     "text": [
      "[nltk_data] Downloading package wordnet to\n",
      "[nltk_data]     C:\\Users\\Ish\\AppData\\Roaming\\nltk_data...\n",
      "[nltk_data]   Package wordnet is already up-to-date!\n",
      "[nltk_data] Downloading package averaged_perceptron_tagger to\n",
      "[nltk_data]     C:\\Users\\Ish\\AppData\\Roaming\\nltk_data...\n",
      "[nltk_data]   Package averaged_perceptron_tagger is already up-to-\n",
      "[nltk_data]       date!\n"
     ]
    },
    {
     "output_type": "execute_result",
     "data": {
      "text/plain": [
       "'ironhack'"
      ]
     },
     "metadata": {},
     "execution_count": 168
    }
   ],
   "metadata": {}
  },
  {
   "cell_type": "code",
   "execution_count": 1,
   "source": [
    "def get_wordnet_pos(word):\r\n",
    "    tag = nltk.pos_tag([word])[0][1][0].upper() # gets first letter of POS categorization\r\n",
    "    tag_dict = {\"J\": wordnet.ADJ, \r\n",
    "                \"N\": wordnet.NOUN,\r\n",
    "                \"V\": wordnet.VERB,\r\n",
    "                \"R\": wordnet.ADV}\r\n",
    "    return tag_dict.get(tag, wordnet.NOUN) # get returns second argument if first key does not exist \r\n",
    "\r\n",
    "def stem_and_lemmatize(l):\r\n",
    "    import nltk\r\n",
    "    nltk.download('wordnet')\r\n",
    "    from nltk.stem import WordNetLemmatizer, PorterStemmer\r\n",
    "    from nltk.corpus import wordnet\r\n",
    "    l_pos = nltk.pos_tag(l,lang='eng')[:15]\r\n",
    "    p_stemmer = PorterStemmer()\r\n",
    "    lemmatizer = WordNetLemmatizer()\r\n",
    "    l_stemmed = [p_stemmer.stem(l[x]) for x in range(len(l))]\r\n",
    "    l_lemmatized =[lemmatizer.lemmatize(l[y]) for y in range(len(l))]\r\n",
    "\r\n",
    "    return l_stemmed, l_lemmatized\r\n",
    "\r\n",
    "s_stemmed, s_lemmed = stem_and_lemmatize(s_tokenized)"
   ],
   "outputs": [
    {
     "output_type": "error",
     "ename": "NameError",
     "evalue": "name 's_tokenized' is not defined",
     "traceback": [
      "\u001b[1;31m---------------------------------------------------------------------------\u001b[0m",
      "\u001b[1;31mNameError\u001b[0m                                 Traceback (most recent call last)",
      "\u001b[1;32m~\\AppData\\Local\\Temp/ipykernel_33788/1432041040.py\u001b[0m in \u001b[0;36m<module>\u001b[1;34m\u001b[0m\n\u001b[0;32m     20\u001b[0m     \u001b[1;32mreturn\u001b[0m \u001b[0ml_stemmed\u001b[0m\u001b[1;33m,\u001b[0m \u001b[0ml_lemmatized\u001b[0m\u001b[1;33m\u001b[0m\u001b[1;33m\u001b[0m\u001b[0m\n\u001b[0;32m     21\u001b[0m \u001b[1;33m\u001b[0m\u001b[0m\n\u001b[1;32m---> 22\u001b[1;33m \u001b[0ms_stemmed\u001b[0m\u001b[1;33m,\u001b[0m \u001b[0ms_lemmed\u001b[0m \u001b[1;33m=\u001b[0m \u001b[0mstem_and_lemmatize\u001b[0m\u001b[1;33m(\u001b[0m\u001b[0ms_tokenized\u001b[0m\u001b[1;33m)\u001b[0m\u001b[1;33m\u001b[0m\u001b[1;33m\u001b[0m\u001b[0m\n\u001b[0m",
      "\u001b[1;31mNameError\u001b[0m: name 's_tokenized' is not defined"
     ]
    }
   ],
   "metadata": {}
  },
  {
   "cell_type": "markdown",
   "source": [
    "## Stop Words Removal\n",
    "\n",
    "Stop Words are the most commonly used words in a language that don't contribute to the main meaning of the texts. Examples of English stop words are `i`, `me`, `is`, `and`, `the`, `but`, and `here`. We want to remove stop words from analysis because otherwise stop words will take the overwhelming portion in our tokenized word list and the NLP algorithms will have problems in identifying the truely important words.\n",
    "\n",
    "NLTK has a `stopwords` package that allows us to import the most common stop words in over a dozen langauges including English, Spanish, French, German, Dutch, Portuguese, Italian, etc. These are the bare minimum stop words (100-150 words in each language) that can get beginners started. Some other NLP packages such as [*stop-words*](https://pypi.org/project/stop-words/) and [*wordcloud*](https://amueller.github.io/word_cloud/generated/wordcloud.WordCloud.html) provide bigger lists of stop words.\n",
    "\n",
    "Now in the cell below, create a function called `remove_stopwords` that loop through a list of words that have been stemmed and lemmatized to check and remove stop words. Return a new list where stop words have been removed."
   ],
   "metadata": {}
  },
  {
   "cell_type": "code",
   "execution_count": 180,
   "source": [
    "def remove_stopwords(l):\r\n",
    "    from nltk.corpus import stopwords\r\n",
    "    nltk.download('stopwords')\r\n",
    "    l_stopped = [word for word in l if not word in stopwords.words()]\r\n",
    "    return l_stopped\r\n",
    "\r\n",
    "    \"\"\"\r\n",
    "    Remove English stopwords from a list of strings.\r\n",
    "\r\n",
    "    Args:\r\n",
    "        l: A list of strings.\r\n",
    "\r\n",
    "    Returns:\r\n",
    "        A list of strings after stop words are removed.\r\n",
    "    \"\"\"\r\n",
    "s_cleaned = remove_stopwords(s_stemmed)\r\n",
    "s_cleaned\r\n",
    "s_cleaned2 = remove_stopwords(s_lemmed)\r\n",
    "s_cleaned2"
   ],
   "outputs": [
    {
     "output_type": "stream",
     "name": "stderr",
     "text": [
      "[nltk_data] Downloading package stopwords to\n",
      "[nltk_data]     C:\\Users\\Ish\\AppData\\Roaming\\nltk_data...\n",
      "[nltk_data]   Package stopwords is already up-to-date!\n",
      "[nltk_data] Downloading package stopwords to\n",
      "[nltk_data]     C:\\Users\\Ish\\AppData\\Roaming\\nltk_data...\n",
      "[nltk_data]   Package stopwords is already up-to-date!\n"
     ]
    },
    {
     "output_type": "execute_result",
     "data": {
      "text/plain": [
       "['ironhack', 'q', 'website']"
      ]
     },
     "metadata": {},
     "execution_count": 180
    }
   ],
   "metadata": {}
  },
  {
   "cell_type": "markdown",
   "source": [
    "## Summary\n",
    "\n",
    "In this challenge you have learned several text preparation techniques in more depths including text cleaning, tokenization, stemming, lemmatization, and stopwords removal. You have also written the functions you will be using in the next challenge to prepare texts for NLP analysis. Now we are ready to move on to the next challenge - Sentiment Analysis."
   ],
   "metadata": {}
  }
 ],
 "metadata": {
  "kernelspec": {
   "name": "python3",
   "display_name": "Python 3.9.6 64-bit"
  },
  "language_info": {
   "codemirror_mode": {
    "name": "ipython",
    "version": 3
   },
   "file_extension": ".py",
   "mimetype": "text/x-python",
   "name": "python",
   "nbconvert_exporter": "python",
   "pygments_lexer": "ipython3",
   "version": "3.9.6"
  },
  "interpreter": {
   "hash": "aedf8f1d51000f588b88a278d8030ee8b8cb0ccbfbd1b6163ec7fb88fccbe87e"
  }
 },
 "nbformat": 4,
 "nbformat_minor": 2
}