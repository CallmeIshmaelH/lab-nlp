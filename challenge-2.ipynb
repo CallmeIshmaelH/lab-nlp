{
 "cells": [
  {
   "cell_type": "markdown",
   "source": [
    "# Challenge 2: Sentiment Analysis\r\n",
    "\r\n",
    "In this challenge we will learn about sentiment analysis and practice performing sentiment analysis on Twitter tweets. \r\n",
    "\r\n",
    "## Introduction\r\n",
    "\r\n",
    "Sentiment analysis refers to the process of *systematically identifying, extracting, quantifying, and studying affective states and subjective information* based on texts ([reference](https://en.wikipedia.org/wiki/Sentiment_analysis)). In simple words, it's to understand whether a person is happy or unhappy at the time of producing the piece of text. Why do we (or rather, companies) care about sentiment in texts? It's because by understanding the sentiments in texts, we will be able to know if our customers are happy or unhappy about our products and services. If they are unhappy, the subsequent action is to figure out what might have caused the unhappiness and make improvements.\r\n",
    "\r\n",
    "Basic sentiment analysis only understands the *positive* or *negative* (sometimes *neutral* too) polarities of the sentiment. More advanced sentiment analysis will also consider dimensions such as agreement, subjectivity, confidence, irony, and so on. In this challenge we will conduct the basic positive vs negative sentiment analysis based on real Twitter tweets.\r\n",
    "\r\n",
    "NLTK comes with a [sentiment analysis package](https://www.nltk.org/api/nltk.sentiment.html). This package is great for dummies to perform sentiment analysis because it requires only the textual data to make predictions. For example:\r\n",
    "\r\n",
    "```python\r\n",
    ">>> from nltk.sentiment.vader import SentimentIntensityAnalyzer\r\n",
    ">>> txt = \"Ironhack is a Global Tech School ranked num 2 worldwide. \r\n",
    "\r\n",
    "\"Our mission is to help people transform their careers and join a thriving community of tech professionals that love what they do.\"\r\n",
    ">>> analyzer = SentimentIntensityAnalyzer()\r\n",
    ">>> analyzer.polarity_scores(txt)\r\n",
    "{'neg': 0.0, 'neu': 0.741, 'pos': 0.259, 'compound': 0.8442}\r\n",
    "```\r\n",
    "\r\n",
    "In this challenge, however, you will not use NLTK's sentiment analysis package because in your Machine Learning training in the past 2 weeks you have learned how to make predictions more accurate than that. The [tweets data](https://www.kaggle.com/kazanova/sentiment140) we will be using today are already coded for the positive/negative sentiment. You will be able to use the Naïve Bayes classifier you learned in the lesson to predict the sentiment of tweets based on the labels."
   ],
   "metadata": {}
  },
  {
   "cell_type": "markdown",
   "source": [
    "## Conducting Sentiment Analysis\n",
    "\n",
    "### Loading and Exploring Data\n",
    "\n",
    "The dataset we'll be using today is located on Kaggle (https://www.kaggle.com/kazanova/sentiment140). Once you have downloaded and imported the dataset, it you will need to define the columns names: df.columns = ['target','id','date','flag','user','text']\n",
    "\n",
    "*Notes:* \n",
    "\n",
    "* The dataset is huuuuge (1.6m tweets). When you develop your data analysis codes, you can sample a subset of the data (e.g. 20k records) so that you will save a lot of time when you test your codes."
   ],
   "metadata": {}
  },
  {
   "cell_type": "code",
   "execution_count": null,
   "source": [
    "# import libraries for working with the dataset\r\n",
    "import pandas as pd\r\n",
    "import numpy as np\r\n",
    "import nltk\r\n",
    "from nltk.stem import WordNetLemmatizer, PorterStemmer\r\n",
    "from sklearn import naive_bayes\r\n",
    "import openpyxl\r\n",
    "import regex as re\r\n"
   ],
   "outputs": [],
   "metadata": {}
  },
  {
   "cell_type": "code",
   "execution_count": null,
   "source": [
    "# load data\r\n",
    "tweetset = pd.read_csv(r'C:\\Users\\Ish\\Documents\\Ironhack Bootcamp\\Unit 8\\Day 2\\L8.04\\training.1600000.processed.noemoticon.csv', encoding = 'latin-1')"
   ],
   "outputs": [],
   "metadata": {}
  },
  {
   "cell_type": "code",
   "execution_count": null,
   "source": [
    "# define functions for cleaning and preparing text data for analysis.\r\n",
    "# preliminary cleaning\r\n",
    "def clean_up(s):\r\n",
    "    # sort through input and remove any patterns that look like urls.\r\n",
    "    import regex as re\r\n",
    "    # use regex to identify and drop URL strings.\r\n",
    "    url_to_drop = re.findall('(?:(?:https?|ftp):\\/\\/)?[\\w/\\-?=%.]+\\.[\\w/\\-&?=%.]+', s)\r\n",
    "    try:\r\n",
    "        s = s.replace(url_to_drop[0], \" \")\r\n",
    "    except:\r\n",
    "        s=s\r\n",
    "    # use regex to identify non-functional special characters\r\n",
    "    chars_to_drop = re.findall('\\W',s)\r\n",
    "    for x in range(len(chars_to_drop)):\r\n",
    "        s = s.replace(chars_to_drop[x],' ')\r\n",
    "    # use regex to identify numerical values to drop.\r\n",
    "    nums_to_drop = re.findall('\\S?[0-9]', s)\r\n",
    "    for n in range(len(nums_to_drop)):\r\n",
    "        s = s.replace(nums_to_drop[n], ' ')\r\n",
    "    # convert all remaining items to lower case\r\n",
    "    return s.lower()\r\n",
    "\r\n",
    "# tokenizing the cleaned text data\r\n",
    "import nltk\r\n",
    "import ssl\r\n",
    "try:\r\n",
    "    _create_unverified_https_context = ssl._create_unverified_context\r\n",
    "except AttributeError:\r\n",
    "    pass\r\n",
    "else:\r\n",
    "    ssl._create_default_https_context = _create_unverified_https_context\r\n",
    "\r\n",
    "nltk.download('punkt')\r\n",
    "\r\n",
    "def tokenize(s):\r\n",
    "    s_tokenized = nltk.word_tokenize(s)\r\n",
    "    return s_tokenized\r\n",
    "\r\n",
    "# produce stemmed and lemmatized results of the text input\r\n",
    "def get_pos(x):\r\n",
    "    tag = nltk.pos_tag([x])[0][1][0].upper() # gets first letter of POS categorization\r\n",
    "    tag_dict = {\"J\": wordnet.ADJ, \r\n",
    "                \"N\": wordnet.NOUN,\r\n",
    "                \"V\": wordnet.VERB,\r\n",
    "                \"R\": wordnet.ADV}\r\n",
    "    return tag_dict.get(tag, wordnet.NOUN) # get returns second argument if first key does not exist \r\n",
    "\r\n",
    "import nltk\r\n",
    "nltk.download('wordnet')\r\n",
    "from nltk.stem import WordNetLemmatizer, PorterStemmer\r\n",
    "from nltk.corpus import wordnet\r\n",
    "def stem_and_lemmatize(l):\r\n",
    "    p_stemmer = PorterStemmer()\r\n",
    "    lemmatizer = WordNetLemmatizer()\r\n",
    "    l_stemmed = [p_stemmer.stem(l[x]) for x in range(len(l))]\r\n",
    "    l_lemmatized =[lemmatizer.lemmatize(l[y], pos = (get_pos(l[y]))) for y in range(len(l))]\r\n",
    "    return l_lemmatized\r\n",
    "\r\n",
    "# remove stopwords from text sample.\r\n",
    "from nltk.corpus import stopwords\r\n",
    "nltk.download('stopwords')\r\n",
    "def remove_stopwords(l):\r\n",
    "    l_stopped = [word for word in l if not word in stopwords.words()]\r\n",
    "    return l_stopped"
   ],
   "outputs": [],
   "metadata": {}
  },
  {
   "cell_type": "markdown",
   "source": [
    "### Prepare Textual Data for Sentiment Analysis\n",
    "\n",
    "Now, apply the functions you have written in Challenge 1 to your whole data set. These functions include:\n",
    "\n",
    "* `clean_up()`\n",
    "\n",
    "* `tokenize()`\n",
    "\n",
    "* `stem_and_lemmatize()`\n",
    "\n",
    "* `remove_stopwords()`\n",
    "\n",
    "Create a new column called `text_processed` in the dataframe to contain the processed data. At the end, your `text_processed` column should contain lists of word tokens that are cleaned up. Your data should look like below:\n",
    "\n",
    "![Processed Data](data-cleaning-results.png)"
   ],
   "metadata": {}
  },
  {
   "cell_type": "code",
   "execution_count": null,
   "source": [
    "# set columns headers to secribe the columns in the dataset\r\n",
    "tweetset.columns = ['sentiment_label','tweet_id','post_timestamp','QUERY_status','username','user_tweet']\r\n",
    "\r\n",
    "# apply preliminary cleaning function to dataset\r\n",
    "tweetset['tweet_cleaned_up'] = tweetset['user_tweet'].apply(lambda x: clean_up(x))\r\n"
   ],
   "outputs": [],
   "metadata": {}
  },
  {
   "cell_type": "code",
   "execution_count": null,
   "source": [
    "#apply tokenizer function to tweet columns.\r\n",
    "tweetset['tweet_tokenized'] = tweetset['tweet_cleaned_up'].apply(lambda x: tokenize(x))"
   ],
   "outputs": [],
   "metadata": {}
  },
  {
   "cell_type": "code",
   "execution_count": null,
   "source": [
    "tweetset.to_pickle('tweetset_unstemmed.pkl')"
   ],
   "outputs": [],
   "metadata": {}
  },
  {
   "cell_type": "code",
   "execution_count": null,
   "source": [
    "# apply the lemmatizer function\r\n",
    "tweetset['tweets_lemmatized'] = tweetset['tweet_tokenized'].apply(lambda x: stem_and_lemmatize(x))\r\n",
    "tweetset['tweets_lemmatized'].head()"
   ],
   "outputs": [],
   "metadata": {}
  },
  {
   "cell_type": "code",
   "execution_count": null,
   "source": [
    "# tweetset.to_pickle('tweetset_stopwordsin.pkl')"
   ],
   "outputs": [],
   "metadata": {}
  },
  {
   "cell_type": "code",
   "execution_count": null,
   "source": [
    "# tweetset['tweet_text_cleaned'] = tweetset['tweets_lemmatized'].apply(lambda x: remove_stopwords(x))\r\n",
    "# tweetset.head()"
   ],
   "outputs": [],
   "metadata": {}
  },
  {
   "cell_type": "code",
   "execution_count": null,
   "source": [
    "tweetset = pickle.load(open('tweetset_stopwordsin.pkl', 'rb'))\r\n",
    "tweetset.shape"
   ],
   "outputs": [],
   "metadata": {}
  },
  {
   "cell_type": "code",
   "execution_count": null,
   "source": [
    "tweet_sample = tweetset.sample(frac = 0.01, replace = False)\r\n",
    "tweet_sample.shape\r\n",
    "tweet_sample.head()\r\n"
   ],
   "outputs": [],
   "metadata": {}
  },
  {
   "cell_type": "code",
   "execution_count": null,
   "source": [
    "tweet_sample.columns"
   ],
   "outputs": [],
   "metadata": {}
  },
  {
   "cell_type": "code",
   "execution_count": null,
   "source": [
    "tweet_sample['text_processed'] = tweet_sample['tweets_lemmatized'].apply(lambda x : remove_stopwords(x))\r\n",
    "tweet_sample = tweet_sample[['sentiment_label', 'tweet_id', 'post_timestamp', 'QUERY_status',\r\n",
    "       'username','text_processed']]\r\n",
    "       \r\n"
   ],
   "outputs": [],
   "metadata": {}
  },
  {
   "cell_type": "code",
   "execution_count": null,
   "source": [
    "tweet_sample.head()\r\n",
    "tweet_sample.to_csv('tweets_sample_data.csv')"
   ],
   "outputs": [],
   "metadata": {}
  },
  {
   "cell_type": "markdown",
   "source": [
    "### Creating Bag of Words\n",
    "\n",
    "The purpose of this step is to create a [bag of words](https://en.wikipedia.org/wiki/Bag-of-words_model) from the processed data. The bag of words contains all the unique words in your whole text body (a.k.a. *corpus*) with the number of occurrence of each word. It will allow you to understand which words are the most important features across the whole corpus.\n",
    "\n",
    "Also, you can imagine you will have a massive set of words. The less important words (i.e. those of very low number of occurrence) do not contribute much to the sentiment. Therefore, you only need to use the most important words to build your feature set in the next step. In our case, we will use the top 5,000 words with the highest frequency to build the features.\n",
    "\n",
    "In the cell below, combine all the words in `text_processed` and calculate the frequency distribution of all words. A convenient library to calculate the term frequency distribution is NLTK's `FreqDist` class ([documentation](https://www.nltk.org/api/nltk.html#module-nltk.probability)). Then select the top 5,000 words from the frequency distribution."
   ],
   "metadata": {}
  },
  {
   "cell_type": "code",
   "execution_count": null,
   "source": [
    "# consolidate text data into a single corpus.\r\n",
    "bag_of_text = []\r\n",
    "for x in tweet_sample['text_processed']:\r\n",
    "    for word in x:\r\n",
    "        bag_of_text.append(word)\r\n",
    "\r\n",
    "len(bag_of_text)\r\n"
   ],
   "outputs": [],
   "metadata": {}
  },
  {
   "cell_type": "code",
   "execution_count": null,
   "source": [
    "# select 5000 most frequent words from bag_of_text\r\n",
    "from nltk import FreqDist\r\n",
    "frequent_dist = FreqDist(x.lower() for x in bag_of_text)\r\n",
    "most_common5k = frequent_dist.most_common(5000)\r\n",
    "most_common5k = [x[0] for x in most_common5k]\r\n",
    "\r\n",
    "\r\n",
    "len(most_common5k)\r\n",
    "\r\n",
    "\r\n"
   ],
   "outputs": [],
   "metadata": {}
  },
  {
   "cell_type": "markdown",
   "source": [
    "### Building Features\n",
    "\n",
    "Now let's build the features. Using the top 5,000 words, create a 2-dimensional matrix to record whether each of those words is contained in each document (tweet). Then you also have an output column to indicate whether the sentiment in each tweet is positive. For example, assuming your bag of words has 5 items (`['one', 'two', 'three', 'four', 'five']`) out of 4 documents (`['A', 'B', 'C', 'D']`), your feature set is essentially:\n",
    "\n",
    "| Doc | one | two | three | four | five | is_positive |\n",
    "|---|---|---|---|---|---|---|\n",
    "| A | True | False | False | True | False | True |\n",
    "| B | False | False | False | True | True | False |\n",
    "| C | False | True | False | False | False | True |\n",
    "| D | True | False | False | False | True | False|\n",
    "\n",
    "However, because the `nltk.NaiveBayesClassifier.train` class we will use in the next step does not work with Pandas dataframe, the structure of your feature set should be converted to the Python list looking like below:\n",
    "\n",
    "```python\n",
    "[\n",
    "\t({\n",
    "\t\t'one': True,\n",
    "\t\t'two': False,\n",
    "\t\t'three': False,\n",
    "\t\t'four': True,\n",
    "\t\t'five': False\n",
    "\t}, True),\n",
    "\t({\n",
    "\t\t'one': False,\n",
    "\t\t'two': False,\n",
    "\t\t'three': False,\n",
    "\t\t'four': True,\n",
    "\t\t'five': True\n",
    "\t}, False),\n",
    "\t({\n",
    "\t\t'one': False,\n",
    "\t\t'two': True,\n",
    "\t\t'three': False,\n",
    "\t\t'four': False,\n",
    "\t\t'five': False\n",
    "\t}, True),\n",
    "\t({\n",
    "\t\t'one': True,\n",
    "\t\t'two': False,\n",
    "\t\t'three': False,\n",
    "\t\t'four': False,\n",
    "\t\t'five': True\n",
    "\t}, False)\n",
    "]\n",
    "```\n",
    "\n",
    "To help you in this step, watch the [following video](https://www.youtube.com/watch?v=-vVskDsHcVc) to learn how to build the feature set with Python and NLTK. The source code in this video can be found [here](https://pythonprogramming.net/words-as-features-nltk-tutorial/)."
   ],
   "metadata": {}
  },
  {
   "cell_type": "markdown",
   "source": [
    "[![Building Features](building-features.jpg)](https://www.youtube.com/watch?v=-vVskDsHcVc)"
   ],
   "metadata": {}
  },
  {
   "cell_type": "code",
   "execution_count": null,
   "source": [
    "# define function to take in a document (in this case a tokenized tweet) and construct the list\r\n",
    "# of the tuple of feature dictionary and boolean value.\r\n",
    "\r\n",
    "def get_features(document, feature_set):\r\n",
    "    words = set(document)\r\n",
    "    features = {}\r\n",
    "    for w in feature_set:\r\n",
    "        features[w] = (w in words)\r\n",
    "\r\n",
    "    return features\r\n",
    "\r\n",
    "document_features = [get_features(x,most_common5k) for x in tweet_sample['text_processed']]\r\n",
    "document_categories =  [y for y in tweet_sample['sentiment_label']]\r\n"
   ],
   "outputs": [],
   "metadata": {}
  },
  {
   "cell_type": "code",
   "execution_count": null,
   "source": [
    "feature_set = list(zip(document_features, document_categories))\r\n",
    "feature_set\r\n"
   ],
   "outputs": [],
   "metadata": {}
  },
  {
   "cell_type": "code",
   "execution_count": null,
   "source": [
    "len(feature_set)\r\n",
    "#save features as a text file\r\n",
    "feature_text = open('feature_text.txt', 'w+')\r\n",
    "feature_text.write(str(document_features))\r\n",
    "feature_text.close()\r\n"
   ],
   "outputs": [],
   "metadata": {}
  },
  {
   "cell_type": "markdown",
   "source": [
    "### Building and Training Naive Bayes Model\r\n",
    "\r\n",
    "In this step you will split your feature set into a training and a test set. Then you will create a Bayes classifier instance using `nltk.NaiveBayesClassifier.train` ([example](https://www.nltk.org/book/ch06.html)) to train with the training dataset.\r\n",
    "\r\n",
    "After training the model, call `classifier.show_most_informative_features()` to inspect the most important features. The output will look like:\r\n",
    "\r\n",
    "```\r\n",
    "Most Informative Features\r\n",
    "\t    snow = True            False : True   =     34.3 : 1.0\r\n",
    "\t  easter = True            False : True   =     26.2 : 1.0\r\n",
    "\t headach = True            False : True   =     20.9 : 1.0\r\n",
    "\t    argh = True            False : True   =     17.6 : 1.0\r\n",
    "\tunfortun = True            False : True   =     16.9 : 1.0\r\n",
    "\t    jona = True             True : False  =     16.2 : 1.0\r\n",
    "\t     ach = True            False : True   =     14.9 : 1.0\r\n",
    "\t     sad = True            False : True   =     13.0 : 1.0\r\n",
    "\t  parent = True            False : True   =     12.9 : 1.0\r\n",
    "\t  spring = True            False : True   =     12.7 : 1.0\r\n",
    "```\r\n",
    "\r\n",
    "The [following video](https://www.youtube.com/watch?v=rISOsUaTrO4) will help you complete this step. The source code in this video can be found [here](https://pythonprogramming.net/naive-bayes-classifier-nltk-tutorial/)."
   ],
   "metadata": {}
  },
  {
   "cell_type": "markdown",
   "source": [
    "[![Building and Training NB](nb-model-building.jpg)](https://www.youtube.com/watch?v=rISOsUaTrO4)"
   ],
   "metadata": {}
  },
  {
   "cell_type": "code",
   "execution_count": null,
   "source": [
    "from nltk import NaiveBayesClassifier\r\n",
    "training_set = feature_set[:11999]\r\n",
    "test_set = feature_set[12000:]\r\n",
    "NBClassy = NaiveBayesClassifier.train(training_set)\r\n"
   ],
   "outputs": [],
   "metadata": {}
  },
  {
   "cell_type": "markdown",
   "source": [
    "### Testing Naive Bayes Model\n",
    "\n",
    "Now we'll test our classifier with the test dataset. This is done by calling `nltk.classify.accuracy(classifier, test)`.\n",
    "\n",
    "As mentioned in one of the tutorial videos, a Naive Bayes model is considered OK if your accuracy score is over 0.6. If your accuracy score is over 0.7, you've done a great job!"
   ],
   "metadata": {}
  },
  {
   "cell_type": "code",
   "execution_count": null,
   "source": [
    "# test classifier and report the score\r\n",
    "NB_accuracy = nltk.classify.accuracy(NBClassy, test_set)\r\n",
    "print(f'Functional Accuracy Score = {round(NB_accuracy,2)}')"
   ],
   "outputs": [],
   "metadata": {}
  },
  {
   "cell_type": "code",
   "execution_count": null,
   "source": [
    "# determine the best features\r\n",
    "NBClassy.show_most_informative_features()\r\n"
   ],
   "outputs": [],
   "metadata": {}
  },
  {
   "cell_type": "markdown",
   "source": [
    "## Bonus Question 1: Improve Model Performance\n",
    "\n",
    "If you are still not exhausted so far and want to dig deeper, try to improve your classifier performance. There are many aspects you can dig into, for example:\n",
    "\n",
    "* Improve stemming and lemmatization. Inspect your bag of words and the most important features. Are there any words you should furuther remove from analysis? You can append these words to further remove to the stop words list.\n",
    "\n",
    "* Remember we only used the top 5,000 features to build model? Try using different numbers of top features. The bottom line is to use as few features as you can without compromising your model performance. The fewer features you select into your model, the faster your model is trained. Then you can use a larger sample size to improve your model accuracy score."
   ],
   "metadata": {}
  },
  {
   "cell_type": "code",
   "execution_count": null,
   "source": [
    "# your code here"
   ],
   "outputs": [],
   "metadata": {}
  },
  {
   "cell_type": "markdown",
   "source": [
    "## Bonus Question 2: Machine Learning Pipeline\n",
    "\n",
    "In a new Jupyter Notebook, combine all your codes into a function (or a class). Your new function will execute the complete machine learning pipeline job by receiving the dataset location and output the classifier. This will allow you to use your function to predict the sentiment of any tweet in real time. "
   ],
   "metadata": {}
  },
  {
   "cell_type": "code",
   "execution_count": null,
   "source": [
    "# your code here"
   ],
   "outputs": [],
   "metadata": {}
  },
  {
   "cell_type": "markdown",
   "source": [
    "## Bonus Question 3: Apache Spark\n",
    "\n",
    "If you have completed the Apache Spark advanced topic lab, what you can do is to migrate your pipeline from local to a Databricks Notebook. Share your notebook with your instructor and classmates to show off your achievements!"
   ],
   "metadata": {}
  },
  {
   "cell_type": "code",
   "execution_count": null,
   "source": [
    "# your code here"
   ],
   "outputs": [],
   "metadata": {}
  }
 ],
 "metadata": {
  "kernelspec": {
   "name": "python3",
   "display_name": "Python 3.9.6 64-bit"
  },
  "language_info": {
   "codemirror_mode": {
    "name": "ipython",
    "version": 3
   },
   "file_extension": ".py",
   "mimetype": "text/x-python",
   "name": "python",
   "nbconvert_exporter": "python",
   "pygments_lexer": "ipython3",
   "version": "3.9.6"
  },
  "interpreter": {
   "hash": "aedf8f1d51000f588b88a278d8030ee8b8cb0ccbfbd1b6163ec7fb88fccbe87e"
  }
 },
 "nbformat": 4,
 "nbformat_minor": 2
}